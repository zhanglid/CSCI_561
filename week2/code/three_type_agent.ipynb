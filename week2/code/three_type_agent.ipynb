{
 "cells": [
  {
   "cell_type": "markdown",
   "metadata": {},
   "source": [
    "## Vocareum exercises\n",
    "Write code for 3 types agent:\n",
    "- simple reflex agent\n",
    "- model based agent\n",
    "- goal based agent"
   ]
  },
  {
   "cell_type": "markdown",
   "metadata": {},
   "source": [
    "### Simple reflex agent\n",
    "<img src=\"img/simple_reflex.png\" height=\"550\" width=\"550\">"
   ]
  },
  {
   "cell_type": "markdown",
   "metadata": {},
   "source": [
    "Rule:  \n",
    "**if** ```status``` = ```Dirty``` **then return** ```Suck```  \n",
    "**else if** ```location``` = ```A``` **then return** ```Right```  \n",
    "**else if** ```location``` = ```B``` **then return** ```Left```"
   ]
  },
  {
   "cell_type": "markdown",
   "metadata": {},
   "source": [
    "Sample input file (input_simplereflex.txt)"
   ]
  },
  {
   "cell_type": "code",
   "execution_count": 1,
   "metadata": {
    "collapsed": false
   },
   "outputs": [
    {
     "name": "stdout",
     "output_type": "stream",
     "text": [
      "A,Clean\r\n",
      "B,Clean\r\n",
      "A,Dirty\r\n",
      "A,Dirty\r\n"
     ]
    }
   ],
   "source": [
    "!cat input_simplereflex.txt"
   ]
  },
  {
   "cell_type": "markdown",
   "metadata": {},
   "source": [
    "Sample output file (traces_actions_simplereflex.txt)"
   ]
  },
  {
   "cell_type": "code",
   "execution_count": 2,
   "metadata": {
    "collapsed": false
   },
   "outputs": [
    {
     "name": "stdout",
     "output_type": "stream",
     "text": [
      "Right\r\n",
      "Left\r\n",
      "Suck\r\n",
      "Suck\r\n"
     ]
    }
   ],
   "source": [
    "!cat trace_actions_simplereflex.txt"
   ]
  },
  {
   "cell_type": "markdown",
   "metadata": {},
   "source": [
    "Code:\n",
    "```python\n",
    "import sys\n",
    "lines=[]\n",
    "intline=[]\n",
    "\n",
    "# open the input file \n",
    "with open(sys.argv[2]) as f:\n",
    "    # put into lines\n",
    "    lines.extend(f.read().splitlines())\n",
    "\n",
    "# define reflex function\n",
    "def reflex(location,status):\n",
    "\tif status == 'Dirty':\n",
    "\t\treturn 'Suck' \n",
    "\telif location == 'A':\n",
    "\t\treturn 'Right' \n",
    "\telif location == 'B':\n",
    "\t\treturn 'Left'\n",
    "        \n",
    "# output result to file\n",
    "fo= open(\"trace_actions_simplereflex.txt\", \"wb\")\n",
    "\n",
    "# process for each input\n",
    "for line in lines:\n",
    "\tsplits=line.split(',')\n",
    "\tstatus=splits[1]\n",
    "\tlocation=splits[0]\n",
    "\taction=reflex(location,status)\n",
    "\tfo.write(action)\n",
    "\tfo.write('\\n')\n",
    "```"
   ]
  },
  {
   "cell_type": "markdown",
   "metadata": {},
   "source": [
    "Run the code:  \n",
    "```\n",
    "python simplereflex.py –i input_simplereflex.txt\n",
    "generate the output file:  trace_actions_simplereflex.txt\n",
    "```"
   ]
  },
  {
   "cell_type": "code",
   "execution_count": 3,
   "metadata": {
    "collapsed": true
   },
   "outputs": [],
   "source": [
    "!rm trace_actions_simplereflex.txt\n",
    "!python simplereflex.py -i input_simplereflex.txt"
   ]
  },
  {
   "cell_type": "code",
   "execution_count": 4,
   "metadata": {
    "collapsed": false
   },
   "outputs": [
    {
     "name": "stdout",
     "output_type": "stream",
     "text": [
      "Right\r\n",
      "Left\r\n",
      "Suck\r\n",
      "Suck\r\n"
     ]
    }
   ],
   "source": [
    "!cat trace_actions_simplereflex.txt"
   ]
  },
  {
   "cell_type": "markdown",
   "metadata": {},
   "source": [
    "**TODO:** \n",
    "- agent_simplereflex.py\n",
    "- Each has its own input file: input.txt\n",
    "- Run the code,e.g. : python agent_simplereflex.py –i input.txt\n",
    "- It should generate the output file: output.txt\n",
    "- Provide the solution: solution.txt\n",
    "- In the source code, have your team member names, emails, and agent description in the comment block"
   ]
  },
  {
   "cell_type": "markdown",
   "metadata": {},
   "source": [
    "Car moving:\n",
    "- There are two tracks ```track = (1, 2)``` for car on the road. \n",
    "- Agent car percepts whether there is a car in front of it on the track. ```status = (yes, no)```. \n",
    "- The car wants to move forward quickly. It can change the track to move quickly. ```action = (move_to_1, move_to_2)```"
   ]
  },
  {
   "cell_type": "markdown",
   "metadata": {},
   "source": [
    "Rule:  \n",
    "**if** ```status == no``` **then** ```move to this track```    \n",
    "**else** ```move to other track```"
   ]
  },
  {
   "cell_type": "code",
   "execution_count": 5,
   "metadata": {
    "collapsed": false,
    "scrolled": true
   },
   "outputs": [],
   "source": [
    "!rm input.txt\n",
    "!echo '1,yes\\n2,no\\n1,no\\n1,yes\\n2,no\\n2,yes\\n1,yes' >> input.txt"
   ]
  },
  {
   "cell_type": "code",
   "execution_count": 6,
   "metadata": {
    "collapsed": false,
    "scrolled": true
   },
   "outputs": [
    {
     "name": "stdout",
     "output_type": "stream",
     "text": [
      "1,yes\r\n",
      "2,no\r\n",
      "1,no\r\n",
      "1,yes\r\n",
      "2,no\r\n",
      "2,yes\r\n",
      "1,yes\r\n"
     ]
    }
   ],
   "source": [
    "!cat input.txt"
   ]
  },
  {
   "cell_type": "code",
   "execution_count": 7,
   "metadata": {
    "collapsed": true
   },
   "outputs": [],
   "source": [
    "def simple_relfex(track, status):\n",
    "    if status == 'no':\n",
    "        if track == '1':\n",
    "            return 'move_to_1'\n",
    "        else:\n",
    "            return 'move_to_2'\n",
    "    else:\n",
    "        if track == '1':\n",
    "            return 'move_to_2'\n",
    "        else:\n",
    "            return 'move_to_1'"
   ]
  },
  {
   "cell_type": "code",
   "execution_count": 8,
   "metadata": {
    "collapsed": false
   },
   "outputs": [
    {
     "name": "stdout",
     "output_type": "stream",
     "text": [
      "['move_to_2', 'move_to_2', 'move_to_1', 'move_to_2', 'move_to_2', 'move_to_1', 'move_to_2']\n"
     ]
    }
   ],
   "source": [
    "action_list = []\n",
    "with open('input.txt', 'r') as f:\n",
    "    for line in f:\n",
    "        track, status = line.replace('\\n', '').split(',')\n",
    "        action = simple_relfex(track, status)\n",
    "        action_list.append(action)\n",
    "        \n",
    "print action_list"
   ]
  },
  {
   "cell_type": "markdown",
   "metadata": {},
   "source": [
    "My final code"
   ]
  },
  {
   "cell_type": "code",
   "execution_count": 9,
   "metadata": {
    "collapsed": false
   },
   "outputs": [
    {
     "name": "stdout",
     "output_type": "stream",
     "text": [
      "\"\"\"This is the code for simple reflex agent\r\n",
      "course: csci561\r\n",
      "author: zhangliang dong, jiajun xu\r\n",
      "id: 7086935462, 9467402560\r\n",
      "email: zhanglid@usc.edu, jiajunx@usc.edu\r\n",
      "\"\"\"\r\n",
      "\r\n",
      "import sys\r\n",
      "\r\n",
      "def simple_relfex(track, status):\r\n",
      "    \"\"\"\r\n",
      "    simple reflex agent\r\n",
      "    rule:\r\n",
      "        if status == no then move to this track\r\n",
      "        else move to other track\r\n",
      "    \"\"\"\r\n",
      "    if status == 'no':\r\n",
      "        if track == '1':\r\n",
      "            return 'move_to_1'\r\n",
      "        else:\r\n",
      "            return 'move_to_2'\r\n",
      "    else:\r\n",
      "        if track == '1':\r\n",
      "            return 'move_to_2'\r\n",
      "        else:\r\n",
      "            return 'move_to_1'\r\n",
      "\r\n",
      "if __name__ == '__main__':\r\n",
      "    action_list = []\r\n",
      "    with open(sys.argv[2]) as f:\r\n",
      "        for line in f:\r\n",
      "            track, status = line.replace('\\n', '').split(',')\r\n",
      "            action_list.append(simple_relfex(track, status))\r\n",
      "\r\n",
      "    with open('output.txt', 'w') as f:\r\n",
      "        for action in action_list:\r\n",
      "            f.write(action + '\\n')\r\n"
     ]
    }
   ],
   "source": [
    "!cat agent_simplereflex.py"
   ]
  },
  {
   "cell_type": "code",
   "execution_count": 10,
   "metadata": {
    "collapsed": false
   },
   "outputs": [
    {
     "name": "stdout",
     "output_type": "stream",
     "text": [
      "1,yes\r\n",
      "2,no\r\n",
      "1,no\r\n",
      "1,yes\r\n",
      "2,no\r\n",
      "2,yes\r\n",
      "1,yes\r\n"
     ]
    }
   ],
   "source": [
    "!cat input.txt"
   ]
  },
  {
   "cell_type": "code",
   "execution_count": 11,
   "metadata": {
    "collapsed": false
   },
   "outputs": [
    {
     "name": "stdout",
     "output_type": "stream",
     "text": [
      "move_to_2\r\n",
      "move_to_2\r\n",
      "move_to_1\r\n",
      "move_to_2\r\n",
      "move_to_2\r\n",
      "move_to_1\r\n",
      "move_to_2\r\n"
     ]
    }
   ],
   "source": [
    "!python agent_simplereflex.py -i input.txt\n",
    "!cat output.txt"
   ]
  },
  {
   "cell_type": "markdown",
   "metadata": {},
   "source": [
    "## Model based agent\n",
    "<img src='img/model_based.png' height=\"550\" width=\"550\">"
   ]
  },
  {
   "cell_type": "markdown",
   "metadata": {},
   "source": [
    "Rule:  \n",
    "Add a model that keeps track of what locations are clean or dirty.  \n",
    "Initially, ```model={A:None, B: None}```  \n",
    "When percept from the environment, update the model:  \n",
    "```\n",
    "location, status=percept  \n",
    "Model[location]=status\n",
    "```  \n",
    "The rule is the same as simple reflex, except that:  \n",
    "```If model[A]==model[B]==‘Clean’, NoOp returns  ```"
   ]
  },
  {
   "cell_type": "markdown",
   "metadata": {},
   "source": [
    "Code\n",
    "```python\n",
    "import sys\n",
    "lines=[]\n",
    "intline=[]\n",
    "\n",
    "## maintain a dict to record the status\n",
    "model={'A':None,'B':None}\n",
    "with open(sys.argv[2]) as f:\n",
    "    lines.extend(f.read().splitlines())\n",
    "    \n",
    "    \n",
    "def modelbased(location,status):\n",
    "    '''\n",
    "        decide what to do by model\n",
    "    '''\n",
    "\tmodel[location]=status\n",
    "\tif model['A']==model['B']=='Clean':\n",
    "\t\treturn 'NoOp'\n",
    "\telif status == 'Dirty':\n",
    "\t\treturn 'Suck' \n",
    "\telif location == 'A':\n",
    "\t\treturn 'Right' \n",
    "\telif location == 'B':\n",
    "\t\treturn 'Left'\n",
    "        \n",
    "        \n",
    "fo= open(\"trace_actions_modelbased.txt\", \"wb\")\n",
    "for line in lines:\n",
    "\tsplits=line.split(',')\n",
    "\tstatus=splits[1]\n",
    "\tlocation=splits[0]\n",
    "\taction=modelbased(location,status)\n",
    "\tfo.write(action)\n",
    "\tfo.write('\\n')\n",
    "```"
   ]
  },
  {
   "cell_type": "code",
   "execution_count": 12,
   "metadata": {
    "collapsed": false
   },
   "outputs": [
    {
     "name": "stdout",
     "output_type": "stream",
     "text": [
      "A,Clean\r\n",
      "B,Clean\r\n",
      "B,Dirty\r\n",
      "B,Clean\r\n"
     ]
    }
   ],
   "source": [
    "!rm trace_actions_modelbased.txt\n",
    "!python modelbased.py -i input_modelbased.txt\n",
    "!cat input_modelbased.txt"
   ]
  },
  {
   "cell_type": "code",
   "execution_count": 13,
   "metadata": {
    "collapsed": false
   },
   "outputs": [
    {
     "name": "stdout",
     "output_type": "stream",
     "text": [
      "Right\r\n",
      "NoOp\r\n",
      "Suck\r\n",
      "NoOp\r\n"
     ]
    }
   ],
   "source": [
    "!cat trace_actions_modelbased.txt"
   ]
  },
  {
   "cell_type": "markdown",
   "metadata": {},
   "source": [
    "**TODO:** \n",
    "- agent_modelbased.py\n",
    "- Each has its own input file: input.txt\n",
    "- Run the code,e.g. : python agent_modelbased.py –i input.txt\n",
    "- It should generate the output file: output.txt\n",
    "- Provide the solution: solution.txt\n",
    "- In the source code, have your team member names, emails, and agent description in the comment block"
   ]
  },
  {
   "cell_type": "markdown",
   "metadata": {},
   "source": [
    "Car moving:\n",
    "- There are two tracks ```track = (1, 2)``` for car on the road. \n",
    "- Agent car percepts whether there is a car in front of it on the track. ```status = (yes, no)```. \n",
    "- The car wants to move forward quickly. It can change the track to move quickly. ```action = (move_to_1, move_to_2, keep)```"
   ]
  },
  {
   "cell_type": "markdown",
   "metadata": {},
   "source": [
    "Rule:  \n",
    "We record the status of two tracks to decide which action to take. Initially, ```model={'1':None, '2':None}```."
   ]
  },
  {
   "cell_type": "code",
   "execution_count": 14,
   "metadata": {
    "collapsed": false
   },
   "outputs": [],
   "source": [
    "def model_based(track, status):\n",
    "    global model\n",
    "    \n",
    "    # update model\n",
    "    model[track] = status\n",
    "    \n",
    "    # decide the aciton\n",
    "    if model['1'] == 'no': \n",
    "        return 'move_to_1'\n",
    "    elif model['2'] == 'no':\n",
    "        return 'move_to_2'\n",
    "    elif model['1'] == None:   # if track 1 is unkown, it is worth to try \n",
    "        return 'move_to_1'\n",
    "    elif model['2'] == None:   # if track 2 is unkown, it is worth to try \n",
    "        return 'move_to_2'\n",
    "    else:\n",
    "        return 'keep'"
   ]
  },
  {
   "cell_type": "code",
   "execution_count": 15,
   "metadata": {
    "collapsed": false
   },
   "outputs": [
    {
     "name": "stdout",
     "output_type": "stream",
     "text": [
      "1,yes\r\n",
      "2,no\r\n",
      "1,no\r\n",
      "1,yes\r\n",
      "2,no\r\n",
      "2,yes\r\n",
      "1,yes\r\n"
     ]
    }
   ],
   "source": [
    "!cat input.txt"
   ]
  },
  {
   "cell_type": "code",
   "execution_count": 16,
   "metadata": {
    "collapsed": false
   },
   "outputs": [
    {
     "name": "stdout",
     "output_type": "stream",
     "text": [
      "['move_to_2', 'move_to_2', 'move_to_1', 'move_to_2', 'move_to_2', 'keep', 'keep']\n"
     ]
    }
   ],
   "source": [
    "action_list = []\n",
    "model = {'1':None, '2':None}\n",
    "with open('input.txt', 'r') as f:\n",
    "    for line in f:\n",
    "        track, status = line.replace('\\n', '').split(',')\n",
    "        action = model_based(track, status)\n",
    "        action_list.append(action)\n",
    "        \n",
    "print action_list"
   ]
  },
  {
   "cell_type": "markdown",
   "metadata": {},
   "source": [
    "My final code"
   ]
  },
  {
   "cell_type": "code",
   "execution_count": 17,
   "metadata": {
    "collapsed": false
   },
   "outputs": [
    {
     "name": "stdout",
     "output_type": "stream",
     "text": [
      "\"\"\"This is the code for model based agent\r\n",
      "course: csci561\r\n",
      "author: zhangliang dong, jiajun xu\r\n",
      "id: 7086935462, 9467402560\r\n",
      "email: zhanglid@usc.edu, jiajunx@usc.edu\r\n",
      "\"\"\"\r\n",
      "\r\n",
      "import sys\r\n",
      "\r\n",
      "def model_based(track, status):\r\n",
      "    \"\"\"\r\n",
      "    We record the status of two tracks to decide which action to take.\r\n",
      "    If first track is no, we move to first track.\r\n",
      "    Else if second track is no, we move to second track.\r\n",
      "    If both tracks are yes, we keep.\r\n",
      "    \"\"\"\r\n",
      "    global model\r\n",
      "\r\n",
      "    # update model\r\n",
      "    model[track] = status\r\n",
      "\r\n",
      "    # decide the aciton\r\n",
      "    if model['1'] == 'no':\r\n",
      "        return 'move_to_1'\r\n",
      "    elif model['2'] == 'no':\r\n",
      "        return 'move_to_2'\r\n",
      "    elif model['1'] == None:   # if track 1 is unkown, it is worth to try\r\n",
      "        return 'move_to_1'\r\n",
      "    elif model['2'] == None:   # if track 2 is unkown, it is worth to try\r\n",
      "        return 'move_to_2'\r\n",
      "    else:\r\n",
      "        return 'keep'\r\n",
      "\r\n",
      "\r\n",
      "if __name__ == '__main__':\r\n",
      "    action_list = []\r\n",
      "\r\n",
      "    # init the model\r\n",
      "    model = {'1':None, '2':None}\r\n",
      "    with open(sys.argv[2]) as f:\r\n",
      "        for line in f:\r\n",
      "            track, status = line.replace('\\n', '').split(',')\r\n",
      "            action_list.append(model_based(track, status))\r\n",
      "\r\n",
      "    # print action_list\r\n",
      "    with open('output.txt', 'w') as f:\r\n",
      "        for action in action_list:\r\n",
      "            f.write(action + '\\n')\r\n"
     ]
    }
   ],
   "source": [
    "!cat agent_modelbased.py"
   ]
  },
  {
   "cell_type": "code",
   "execution_count": 18,
   "metadata": {
    "collapsed": false
   },
   "outputs": [
    {
     "name": "stdout",
     "output_type": "stream",
     "text": [
      "1,yes\r\n",
      "2,no\r\n",
      "1,no\r\n",
      "1,yes\r\n",
      "2,no\r\n",
      "2,yes\r\n",
      "1,yes\r\n"
     ]
    }
   ],
   "source": [
    "!cat input.txt"
   ]
  },
  {
   "cell_type": "code",
   "execution_count": 19,
   "metadata": {
    "collapsed": false
   },
   "outputs": [
    {
     "name": "stdout",
     "output_type": "stream",
     "text": [
      "move_to_2\r\n",
      "move_to_2\r\n",
      "move_to_1\r\n",
      "move_to_2\r\n",
      "move_to_2\r\n",
      "keep\r\n",
      "keep\r\n"
     ]
    }
   ],
   "source": [
    "!python agent_modelbased.py -i input.txt\n",
    "!cat output.txt"
   ]
  },
  {
   "cell_type": "markdown",
   "metadata": {},
   "source": [
    "### Goal based agent\n",
    "<img src='img/goal_based.png' height=\"550\" width=\"550\">"
   ]
  },
  {
   "cell_type": "markdown",
   "metadata": {},
   "source": [
    "Rule:  \n",
    "Add goal test:  \n",
    "- If both locations are clean , simply stop\n"
   ]
  },
  {
   "cell_type": "markdown",
   "metadata": {},
   "source": [
    "Code\n",
    "```python\n",
    "import sys\n",
    "lines=[]\n",
    "intline=[]\n",
    "model={'A':None,'B':None}\n",
    "with open(sys.argv[2]) as f:\n",
    "    lines.extend(f.read().splitlines())\n",
    "def goalbased(location,status):\n",
    "\tmodel[location]=status\n",
    "    \n",
    "    # exam the goal to take action\n",
    "\tif model['A']==model['B']=='Clean':\n",
    "\t\treturn 'Stop'\n",
    "\telif status == 'Dirty':\n",
    "\t\treturn 'Suck' \n",
    "\telif location == 'A':\n",
    "\t\treturn 'Right' \n",
    "\telif location == 'B':\n",
    "\t\treturn 'Left'\n",
    "fo= open(\"trace_actions_goalbased.txt\", \"wb\")\n",
    "for line in lines:\n",
    "\tsplits=line.split(',')\n",
    "\tstatus=splits[1]\n",
    "\tlocation=splits[0]\n",
    "\taction=goalbased(location,status)\n",
    "\tif action == 'Stop':\n",
    "\t\tfo.write(action)\n",
    "\t\tfo.write('\\n')\n",
    "\t\tbreak\n",
    "\tfo.write(action)\n",
    "\tfo.write('\\n')\n",
    "```"
   ]
  },
  {
   "cell_type": "code",
   "execution_count": 20,
   "metadata": {
    "collapsed": false
   },
   "outputs": [
    {
     "name": "stdout",
     "output_type": "stream",
     "text": [
      "A,Dirty\r\n",
      "A,Clean\r\n",
      "B,Clean\r\n"
     ]
    }
   ],
   "source": [
    "!cat input_goalbased.txt"
   ]
  },
  {
   "cell_type": "code",
   "execution_count": 21,
   "metadata": {
    "collapsed": false
   },
   "outputs": [
    {
     "name": "stdout",
     "output_type": "stream",
     "text": [
      "Suck\r\n",
      "Right\r\n",
      "Stop\r\n"
     ]
    }
   ],
   "source": [
    "!python goalbased.py -i input_goalbased.txt\n",
    "!cat trace_actions_goalbased.txt"
   ]
  },
  {
   "cell_type": "markdown",
   "metadata": {},
   "source": [
    "**TODO:** \n",
    "- agent_goalbased.py\n",
    "- Each has its own input file: input.txt\n",
    "- Run the code,e.g. : python agent_goalbased.py –i input.txt\n",
    "- It should generate the output file: output.txt\n",
    "- Provide the solution: solution.txt\n",
    "- In the source code, have your team member names, emails, and agent description in the comment block"
   ]
  },
  {
   "cell_type": "markdown",
   "metadata": {},
   "source": [
    "Car moving:\n",
    "- There are two tracks ```track = (1, 2)``` for car on the road. \n",
    "- Agent car percepts whether there is a car in front of it on the track. ```status = (yes, no)```. \n",
    "- The car wants to move forward quickly. It can change the track to move quickly. ```action = (move_to_1, move_to_2, keep)```"
   ]
  },
  {
   "cell_type": "markdown",
   "metadata": {},
   "source": [
    "Rule:  \n",
    "We change the track until we cannot get more quickly by changing the track.  \n",
    "Goal: Both tracks are ```yes```"
   ]
  },
  {
   "cell_type": "code",
   "execution_count": 22,
   "metadata": {
    "collapsed": true
   },
   "outputs": [],
   "source": [
    "def goal_based(track, status):\n",
    "    global model \n",
    "    model[track] = status\n",
    "    \n",
    "    if model['1'] == 'yes' and model['2'] == 'yes':\n",
    "        return 'keep' # meet the goal, no need to move\n",
    "    else:\n",
    "        if model['1'] == 'no':\n",
    "            return 'move_to_1' # track 1 is avaliable\n",
    "        elif model['2'] == 'no':\n",
    "            return 'move_to_2'# track 2 is avaliable\n",
    "        elif model['1'] == None:\n",
    "            return 'move_to_1'\n",
    "        elif model['2'] == None:\n",
    "            return 'move_to_2'\n",
    "        else:\n",
    "            return 'keep' # we have none in the model, need to wait for more info"
   ]
  },
  {
   "cell_type": "code",
   "execution_count": 23,
   "metadata": {
    "collapsed": false
   },
   "outputs": [
    {
     "name": "stdout",
     "output_type": "stream",
     "text": [
      "1,yes\r\n",
      "2,no\r\n",
      "1,no\r\n",
      "1,yes\r\n",
      "2,no\r\n",
      "2,yes\r\n",
      "1,yes\r\n"
     ]
    }
   ],
   "source": [
    "!cat input.txt"
   ]
  },
  {
   "cell_type": "code",
   "execution_count": 24,
   "metadata": {
    "collapsed": false
   },
   "outputs": [
    {
     "name": "stdout",
     "output_type": "stream",
     "text": [
      "['move_to_2', 'move_to_2', 'move_to_1', 'move_to_2', 'move_to_2', 'keep', 'keep']\n"
     ]
    }
   ],
   "source": [
    "action_list = []\n",
    "model = {'1':None, '2':None}\n",
    "with open('input.txt', 'r') as f:\n",
    "    for line in f:\n",
    "        track, status = line.replace('\\n', '').split(',')\n",
    "        action = goal_based(track, status)\n",
    "        action_list.append(action)\n",
    "        \n",
    "print action_list"
   ]
  },
  {
   "cell_type": "markdown",
   "metadata": {},
   "source": [
    "My final code"
   ]
  },
  {
   "cell_type": "code",
   "execution_count": 25,
   "metadata": {
    "collapsed": false,
    "scrolled": false
   },
   "outputs": [
    {
     "name": "stdout",
     "output_type": "stream",
     "text": [
      "\"\"\"This is the code for goal based agent\r\n",
      "course: csci561\r\n",
      "author: zhangliang dong, jiajun xu\r\n",
      "id: 7086935462, 9467402560\r\n",
      "email: zhanglid@usc.edu, jiajunx@usc.edu\r\n",
      "\"\"\"\r\n",
      "import sys\r\n",
      "\r\n",
      "def goal_based(track, status):\r\n",
      "    global model\r\n",
      "    model[track] = status\r\n",
      "\r\n",
      "    if model['1'] == 'yes' and model['2'] == 'yes':\r\n",
      "        return 'keep' # meet the goal, no need to move\r\n",
      "    else:\r\n",
      "        if model['1'] == 'no':\r\n",
      "            return 'move_to_1' # track 1 is avaliable\r\n",
      "        elif model['2'] == 'no':\r\n",
      "            return 'move_to_2'# track 2 is avaliable\r\n",
      "        elif model['1'] == None:\r\n",
      "            return 'move_to_1'\r\n",
      "        elif model['2'] == None:\r\n",
      "            return 'move_to_2'\r\n",
      "        else:\r\n",
      "            return 'keep' # we have none in the model, need to wait for more info\r\n",
      "\r\n",
      "if __name__ == '__main__':\r\n",
      "    action_list = []\r\n",
      "\r\n",
      "    # init the model\r\n",
      "    model = {'1':None, '2':None}\r\n",
      "    with open(sys.argv[2]) as f:\r\n",
      "        for line in f:\r\n",
      "            track, status = line.replace('\\n', '').split(',')\r\n",
      "            action_list.append(goal_based(track, status))\r\n",
      "\r\n",
      "    # print action_list\r\n",
      "    with open('output.txt', 'w') as f:\r\n",
      "        for action in action_list:\r\n",
      "            f.write(action + '\\n')\r\n"
     ]
    }
   ],
   "source": [
    "!cat agent_goalbased.py"
   ]
  },
  {
   "cell_type": "code",
   "execution_count": 26,
   "metadata": {
    "collapsed": false
   },
   "outputs": [
    {
     "name": "stdout",
     "output_type": "stream",
     "text": [
      "1,yes\r\n",
      "2,no\r\n",
      "1,no\r\n",
      "1,yes\r\n",
      "2,no\r\n",
      "2,yes\r\n",
      "1,yes\r\n"
     ]
    }
   ],
   "source": [
    "!cat input.txt\n",
    "!python agent_goalbased.py -i input.txt"
   ]
  },
  {
   "cell_type": "code",
   "execution_count": 27,
   "metadata": {
    "collapsed": false
   },
   "outputs": [
    {
     "name": "stdout",
     "output_type": "stream",
     "text": [
      "move_to_2\r\n",
      "move_to_2\r\n",
      "move_to_1\r\n",
      "move_to_2\r\n",
      "move_to_2\r\n",
      "keep\r\n",
      "keep\r\n"
     ]
    }
   ],
   "source": [
    "!cat output.txt"
   ]
  }
 ],
 "metadata": {
  "kernelspec": {
   "display_name": "Python 2",
   "language": "python",
   "name": "python2"
  },
  "language_info": {
   "codemirror_mode": {
    "name": "ipython",
    "version": 2
   },
   "file_extension": ".py",
   "mimetype": "text/x-python",
   "name": "python",
   "nbconvert_exporter": "python",
   "pygments_lexer": "ipython2",
   "version": "2.7.13"
  }
 },
 "nbformat": 4,
 "nbformat_minor": 2
}
